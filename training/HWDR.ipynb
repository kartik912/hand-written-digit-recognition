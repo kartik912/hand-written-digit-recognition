{
  "nbformat": 4,
  "nbformat_minor": 0,
  "metadata": {
    "colab": {
      "provenance": []
    },
    "kernelspec": {
      "name": "python3",
      "display_name": "Python 3"
    },
    "language_info": {
      "name": "python"
    }
  },
  "cells": [
    {
      "cell_type": "markdown",
      "source": [
        "# IMPORTING LIBRARIES"
      ],
      "metadata": {
        "id": "nBC_vFktCY5n"
      }
    },
    {
      "cell_type": "code",
      "execution_count": 1,
      "metadata": {
        "id": "uhNzOS8ht7iG"
      },
      "outputs": [],
      "source": [
        "import numpy as np\n",
        "from sklearn.metrics import confusion_matrix, precision_recall_fscore_support, accuracy_score\n",
        "from sklearn.model_selection import train_test_split\n",
        "import cv2\n",
        "import tensorflow as tf"
      ]
    },
    {
      "cell_type": "markdown",
      "source": [
        "# DOWNLOADING DATASET"
      ],
      "metadata": {
        "id": "RDhS9FFJCdAh"
      }
    },
    {
      "cell_type": "code",
      "source": [
        "# Load the MNIST dataset\n",
        "mnist = tf.keras.datasets.mnist\n",
        "(train_images, train_labels), (test_images, test_labels) = mnist.load_data()"
      ],
      "metadata": {
        "id": "PdBi6tAhumA4",
        "colab": {
          "base_uri": "https://localhost:8080/"
        },
        "outputId": "a112fdac-32f8-4c11-d6c2-e0ed48fea32b"
      },
      "execution_count": 2,
      "outputs": [
        {
          "output_type": "stream",
          "name": "stdout",
          "text": [
            "Downloading data from https://storage.googleapis.com/tensorflow/tf-keras-datasets/mnist.npz\n",
            "11490434/11490434 [==============================] - 0s 0us/step\n"
          ]
        }
      ]
    },
    {
      "cell_type": "markdown",
      "source": [
        "# checking if dataset is balanced or not"
      ],
      "metadata": {
        "id": "Fz5JoxpNydzF"
      }
    },
    {
      "cell_type": "code",
      "source": [
        "import numpy as np\n",
        "import tensorflow as tf\n",
        "\n",
        "# Load the MNIST dataset\n",
        "mnist = tf.keras.datasets.mnist\n",
        "(train_images, train_labels), (test_images, test_labels) = mnist.load_data()\n",
        "\n",
        "# Count the occurrences of each label in the training set\n",
        "unique_train_labels, train_counts = np.unique(train_labels, return_counts=True)\n",
        "train_label_counts = dict(zip(unique_train_labels, train_counts))\n",
        "\n",
        "# Count the occurrences of each label in the test set\n",
        "unique_test_labels, test_counts = np.unique(test_labels, return_counts=True)\n",
        "test_label_counts = dict(zip(unique_test_labels, test_counts))\n",
        "\n",
        "# Display the counts\n",
        "print(\"Training set label counts:\")\n",
        "for label, count in train_label_counts.items():\n",
        "    print(f\"Label {label}: {count}\")\n",
        "\n",
        "print(\"\\nTest set label counts:\")\n",
        "for label, count in test_label_counts.items():\n",
        "    print(f\"Label {label}: {count}\")\n"
      ],
      "metadata": {
        "colab": {
          "base_uri": "https://localhost:8080/"
        },
        "collapsed": true,
        "id": "HyawwWPkyUNf",
        "outputId": "307546d5-cc0d-41c4-d164-94bdfbf8e571"
      },
      "execution_count": 53,
      "outputs": [
        {
          "output_type": "stream",
          "name": "stdout",
          "text": [
            "Training set label counts:\n",
            "Label 0: 5923\n",
            "Label 1: 6742\n",
            "Label 2: 5958\n",
            "Label 3: 6131\n",
            "Label 4: 5842\n",
            "Label 5: 5421\n",
            "Label 6: 5918\n",
            "Label 7: 6265\n",
            "Label 8: 5851\n",
            "Label 9: 5949\n",
            "\n",
            "Test set label counts:\n",
            "Label 0: 980\n",
            "Label 1: 1135\n",
            "Label 2: 1032\n",
            "Label 3: 1010\n",
            "Label 4: 982\n",
            "Label 5: 892\n",
            "Label 6: 958\n",
            "Label 7: 1028\n",
            "Label 8: 974\n",
            "Label 9: 1009\n"
          ]
        }
      ]
    },
    {
      "cell_type": "markdown",
      "source": [
        "# RESHAPING THE IMAGES"
      ],
      "metadata": {
        "id": "8_wGIubiNMMs"
      }
    },
    {
      "cell_type": "code",
      "source": [
        "train_images = train_images.reshape(-1, 28*28) / 255.0\n",
        "test_images = test_images.reshape(-1, 28*28) / 255.0\n",
        "num_classes = 10\n",
        "train_labels = np.eye(num_classes)[train_labels]\n",
        "test_labels = np.eye(num_classes)[test_labels]"
      ],
      "metadata": {
        "id": "7qKePHvQuo-v",
        "collapsed": true
      },
      "execution_count": 3,
      "outputs": []
    },
    {
      "cell_type": "markdown",
      "source": [
        "# OLD code"
      ],
      "metadata": {
        "id": "U84QdXPM01oU"
      }
    },
    {
      "cell_type": "code",
      "source": [
        "# Define a simple feedforward neural network\n",
        "input_size = 28*28\n",
        "hidden_size = 128\n",
        "output_size = num_classes\n",
        "learning_rate = 0.1\n",
        "\n",
        "# Initialize weights and biases\n",
        "np.random.seed(0)\n",
        "weights_input_hidden = np.random.randn(input_size, hidden_size)\n",
        "biases_hidden = np.zeros(hidden_size)\n",
        "weights_hidden_output = np.random.randn(hidden_size, output_size)\n",
        "biases_output = np.zeros(output_size)\n",
        "\n",
        "# Softmax function\n",
        "def softmax(x):\n",
        "    exp_x = np.exp(x - np.max(x, axis=-1, keepdims=True))  # Subtract the max for numerical stability\n",
        "    return exp_x / np.sum(exp_x, axis=-1, keepdims=True)\n",
        "\n",
        "# Training loop\n",
        "num_epochs = 10\n",
        "for epoch in range(num_epochs):\n",
        "    epoch_loss = 0\n",
        "    all_predictions = []\n",
        "    all_true_labels = []\n",
        "\n",
        "    for i in range(len(train_images)):\n",
        "        # Forward pass\n",
        "        input_layer = train_images[i]\n",
        "        hidden_layer_input = np.dot(input_layer, weights_input_hidden) + biases_hidden\n",
        "        hidden_layer_output = 1 / (1 + np.exp(-hidden_layer_input))  # Sigmoid activation\n",
        "        output_layer_input = np.dot(hidden_layer_output, weights_hidden_output) + biases_output\n",
        "        output_layer_output = softmax(output_layer_input)\n",
        "\n",
        "        # Calculate loss (cross-entropy)\n",
        "        loss = -np.sum(train_labels[i] * np.log(output_layer_output))\n",
        "\n",
        "        # Backpropagation\n",
        "        output_error = output_layer_output - train_labels[i]\n",
        "        hidden_error = np.dot(output_error, weights_hidden_output.T)\n",
        "        hidden_delta = hidden_error * hidden_layer_output * (1 - hidden_layer_output)\n",
        "        weights_hidden_output -= learning_rate * np.outer(hidden_layer_output, output_error)\n",
        "        biases_output -= learning_rate * output_error\n",
        "        weights_input_hidden -= learning_rate * np.outer(input_layer, hidden_delta)\n",
        "        biases_hidden -= learning_rate * hidden_delta\n",
        "\n",
        "        all_predictions.append(np.argmax(output_layer_output))\n",
        "        all_true_labels.append(np.argmax(train_labels[i]))\n",
        "\n",
        "    accuracy = accuracy_score(all_true_labels, all_predictions)\n",
        "    precision, recall, f1, _ = precision_recall_fscore_support(all_true_labels, all_predictions, average='macro')\n",
        "    cm = confusion_matrix(all_true_labels, all_predictions)\n",
        "\n",
        "    print(f\"Epoch {epoch + 1}/{num_epochs}, Loss: {epoch_loss/len(train_images):.4f}, Accuracy: {accuracy:.4f}, Precision: {precision:.4f}, Recall: {recall:.4f}, F1 Score: {f1:.4f}\")\n",
        "    print(\"Confusion Matrix:\")\n",
        "    print(cm)\n",
        "\n",
        "# Testing\n",
        "all_test_predictions = []\n",
        "all_test_true_labels = []\n",
        "\n",
        "for i in range(len(test_images)):\n",
        "    input_layer = test_images[i]\n",
        "    hidden_layer_input = np.dot(input_layer, weights_input_hidden) + biases_hidden\n",
        "    hidden_layer_output = 1 / (1 + np.exp(-hidden_layer_input))  # Sigmoid activation\n",
        "    output_layer_input = np.dot(hidden_layer_output, weights_hidden_output) + biases_output\n",
        "    output_layer_output = softmax(output_layer_input)\n",
        "    prediction = np.argmax(output_layer_output)\n",
        "    all_test_predictions.append(prediction)\n",
        "    all_test_true_labels.append(np.argmax(test_labels[i]))\n",
        "\n",
        "accuracy = accuracy_score(all_test_true_labels, all_test_predictions)\n",
        "precision, recall, f1, _ = precision_recall_fscore_support(all_test_true_labels, all_test_predictions, average='macro')\n",
        "cm = confusion_matrix(all_test_true_labels, all_test_predictions)\n",
        "\n",
        "print(f\"\\nTest Accuracy: {accuracy:.4f}\")\n",
        "print(f\"Test Precision: {precision:.4f}, Test Recall: {recall:.4f}, Test F1 Score: {f1:.4f}\")\n",
        "print(\"Test Confusion Matrix:\")\n",
        "print(cm)"
      ],
      "metadata": {
        "id": "8FgQyJ7kuA6t",
        "colab": {
          "base_uri": "https://localhost:8080/"
        },
        "outputId": "bd9cb8d1-e537-4064-a954-46824800b68c",
        "collapsed": true
      },
      "execution_count": 4,
      "outputs": [
        {
          "output_type": "stream",
          "name": "stdout",
          "text": [
            "Epoch 1/10, Loss: 0.0000, Accuracy: 0.8829, Precision: 0.8815, Recall: 0.8815, F1 Score: 0.8815\n",
            "Confusion Matrix:\n",
            "[[5549    2   50   32   10   93   70   25   67   25]\n",
            " [   1 6437   56   51    7   26   17   33   94   20]\n",
            " [  57   60 5177  149   89   33  120   82  163   28]\n",
            " [  30   35  187 5189    9  272   32   90  216   71]\n",
            " [  17   18   59   10 5156   29   80   57   60  356]\n",
            " [  96   25   43  274   60 4523  126   34  162   78]\n",
            " [  79   25   93   18   85  108 5432   13   54   11]\n",
            " [  27   48   89   64   67   39    6 5649   38  238]\n",
            " [  53   90  136  242   51  167   63   26 4890  133]\n",
            " [  38   24   27   94  342   73    8  238  132 4973]]\n",
            "Epoch 2/10, Loss: 0.0000, Accuracy: 0.9379, Precision: 0.9372, Recall: 0.9372, F1 Score: 0.9372\n",
            "Confusion Matrix:\n",
            "[[5732    4   36    7    4   38   43    9   36   14]\n",
            " [   1 6581   31   29   12    4    9   13   44   18]\n",
            " [  39   29 5574   71   45   14   39   56   73   18]\n",
            " [   9   25   94 5601    6  162   16   42  134   42]\n",
            " [   8   16   38    4 5470   13   46   33   23  191]\n",
            " [  46   11   11  154   22 4963   64   21   86   43]\n",
            " [  48    7   45    7   39   65 5656    3   47    1]\n",
            " [   7   27   49   38   41   19    3 5939   19  123]\n",
            " [  26   50   62  127   27   75   47   14 5338   85]\n",
            " [  20    9   10   55  187   50    4  125   68 5421]]\n",
            "Epoch 3/10, Loss: 0.0000, Accuracy: 0.9544, Precision: 0.9538, Recall: 0.9539, F1 Score: 0.9538\n",
            "Confusion Matrix:\n",
            "[[5781    1   19    5    9   27   27   11   32   11]\n",
            " [   1 6610   27   18   12    0    7   18   35   14]\n",
            " [  24   22 5698   63   22   11   18   39   52    9]\n",
            " [   9   17   80 5741    2  110    7   38   92   35]\n",
            " [   9    7   15    5 5568    8   30   23   18  159]\n",
            " [  34   10    6  102   13 5091   59    8   54   44]\n",
            " [  35    8   20    4   23   48 5750    1   27    2]\n",
            " [   8   22   42   20   30   14    3 6034   17   75]\n",
            " [  22   36   44   99   20   64   31   13 5473   49]\n",
            " [  21   12    8   50  159   36    2   92   54 5515]]\n",
            "Epoch 4/10, Loss: 0.0000, Accuracy: 0.9626, Precision: 0.9622, Recall: 0.9622, F1 Score: 0.9622\n",
            "Confusion Matrix:\n",
            "[[5808    2   19    4    4   22   19    5   29   11]\n",
            " [   3 6636   23   10    9    4    7   15   25   10]\n",
            " [  24   21 5723   53   10   10   17   41   46   13]\n",
            " [   7   13   60 5816    5   93    5   33   70   29]\n",
            " [   7    9   17    1 5631    7   22   16   18  114]\n",
            " [  23    7   12   83   12 5158   38    7   43   38]\n",
            " [  25    7   17    2   18   31 5789    1   27    1]\n",
            " [   4   21   39   32   22    6    2 6048   15   76]\n",
            " [  16   28   39   72   12   50   33   12 5544   45]\n",
            " [  13   10   10   43  137   26    3   67   40 5600]]\n",
            "Epoch 5/10, Loss: 0.0000, Accuracy: 0.9689, Precision: 0.9686, Recall: 0.9686, F1 Score: 0.9686\n",
            "Confusion Matrix:\n",
            "[[5841    1   13    6    4   11   18    2   23    4]\n",
            " [   0 6645   21   10    9    0    4   18   26    9]\n",
            " [  12   12 5792   29   11    4   15   30   44    9]\n",
            " [   6   11   51 5855    3   78    5   28   62   32]\n",
            " [   7   13   17    5 5654    8   21   17   12   88]\n",
            " [  14    4    4   77    4 5208   30    5   48   27]\n",
            " [  22    6   11    2   15   36 5802    0   23    1]\n",
            " [   5   17   33   21   18    5    0 6090   11   65]\n",
            " [  14   28   29   53   16   42   28   16 5584   41]\n",
            " [  14   12    6   36   98   28    2   56   36 5661]]\n",
            "Epoch 6/10, Loss: 0.0000, Accuracy: 0.9734, Precision: 0.9732, Recall: 0.9732, F1 Score: 0.9732\n",
            "Confusion Matrix:\n",
            "[[5853    1   11    4    4    6   17    5   17    5]\n",
            " [   1 6658   16   13    7    1    5   14   19    8]\n",
            " [  20   14 5805   29   11    6    9   30   26    8]\n",
            " [   6    9   47 5888    3   61    2   22   68   25]\n",
            " [   4   11    9    2 5678    2   20   15   14   87]\n",
            " [  13    5    5   60    5 5240   29    5   42   17]\n",
            " [  20    3    7    3   14   26 5827    0   17    1]\n",
            " [   5   15   24   22   17    2    0 6124    6   50]\n",
            " [  13   24   29   57   10   42   23    9 5603   41]\n",
            " [   7    6    3   26   80   18    1   48   30 5730]]\n",
            "Epoch 7/10, Loss: 0.0000, Accuracy: 0.9767, Precision: 0.9766, Recall: 0.9765, F1 Score: 0.9766\n",
            "Confusion Matrix:\n",
            "[[5859    2    9    4    3    8    9    2   17   10]\n",
            " [   1 6667   12    7   10    1    4   14   17    9]\n",
            " [  15   18 5821   31    5    2   11   24   27    4]\n",
            " [   4   12   50 5921    0   49    3   20   47   25]\n",
            " [   4   10   11    3 5707    2   14    7    7   77]\n",
            " [  10    2    3   47    3 5279   23    1   36   17]\n",
            " [  24    4    9    1   12   19 5833    0   15    1]\n",
            " [   2   13   25   15   12    1    0 6143   14   40]\n",
            " [  11   20   28   48   13   32   15   11 5639   34]\n",
            " [   9    4    6   35   64   19    1   48   28 5735]]\n",
            "Epoch 8/10, Loss: 0.0000, Accuracy: 0.9786, Precision: 0.9784, Recall: 0.9784, F1 Score: 0.9784\n",
            "Confusion Matrix:\n",
            "[[5851    1   10    1    6   14   15    2   17    6]\n",
            " [   2 6681   13    8    4    1    1   11   17    4]\n",
            " [  17    9 5833   23    8    5   11   20   26    6]\n",
            " [   7    7   34 5942    3   46    2   15   50   25]\n",
            " [   4    6    7    1 5717    3   11   11   11   71]\n",
            " [  10    3    5   43    6 5283   25    1   24   21]\n",
            " [  18    2    5    1   12   19 5842    2   16    1]\n",
            " [   2    8   18   11   11    4    1 6149    6   55]\n",
            " [   9   18   21   48    8   20   18    9 5673   27]\n",
            " [   5    4    3   28   66   18    2   50   29 5744]]\n",
            "Epoch 9/10, Loss: 0.0000, Accuracy: 0.9816, Precision: 0.9815, Recall: 0.9815, F1 Score: 0.9815\n",
            "Confusion Matrix:\n",
            "[[5869    1    5    2    7    8   10    2   14    5]\n",
            " [   0 6687    9    8    4    2    2    9   15    6]\n",
            " [  15    7 5863   22    3    1    3   23   18    3]\n",
            " [   3   10   29 5968    1   43    1   12   41   23]\n",
            " [   4    6    5    1 5732    0   11    9   10   64]\n",
            " [   7    1    3   48    5 5302   17    1   23   14]\n",
            " [  17    2    8    0   10   18 5851    0   12    0]\n",
            " [   4    7   23   15   10    2    0 6162    7   35]\n",
            " [  15   15   21   31    5   17   19    9 5688   31]\n",
            " [   3    3    6   24   57   16    1   43   21 5775]]\n",
            "Epoch 10/10, Loss: 0.0000, Accuracy: 0.9840, Precision: 0.9839, Recall: 0.9839, F1 Score: 0.9839\n",
            "Confusion Matrix:\n",
            "[[5873    1    7    1    2    4   16    1   16    2]\n",
            " [   0 6700    9    5    2    0    2    6   14    4]\n",
            " [  13    9 5848   25    6    2    8   21   19    7]\n",
            " [   3    3   37 5987    1   31    0   12   38   19]\n",
            " [   2    5    6    2 5755    1    6    7    6   52]\n",
            " [   5    3    3   33    4 5326   18    2   14   13]\n",
            " [  18    2    7    0    7   14 5859    0   10    1]\n",
            " [   2    8   18    7    8    0    1 6177    5   39]\n",
            " [   6   15   19   34    6   16   17    1 5716   21]\n",
            " [   4    3    1   21   46   12    0   35   26 5801]]\n",
            "\n",
            "Test Accuracy: 0.9582\n",
            "Test Precision: 0.9586, Test Recall: 0.9581, Test F1 Score: 0.9578\n",
            "Test Confusion Matrix:\n",
            "[[ 959    0    1    1    1    9    2    0    2    5]\n",
            " [   0 1122    3    0    2    1    1    1    5    0]\n",
            " [   7    4  993    5    6    2    1    6    7    1]\n",
            " [   0    2    3  958    1   26    0    4    5   11]\n",
            " [   1    0    3    0  951    2    2    1    2   20]\n",
            " [   1    0    0    4    1  878    3    0    1    4]\n",
            " [   5    4    3    0   22   25  895    0    4    0]\n",
            " [   2   13    8    6   16    4    1  940    0   38]\n",
            " [   5    3    5   12    2   24    1    0  910   12]\n",
            " [   1    3    0    4   13    5    1    2    4  976]]\n"
          ]
        }
      ]
    },
    {
      "cell_type": "markdown",
      "source": [
        "# SAVING AND LOADING MODEL"
      ],
      "metadata": {
        "id": "yaMSnyxfNm-z"
      }
    },
    {
      "cell_type": "code",
      "source": [
        "np.savez('my_model.npz',\n",
        "         input_layer=input_layer,\n",
        "         weights_input_hidden=weights_input_hidden,\n",
        "         biases_hidden=biases_hidden,\n",
        "         weights_hidden_output=weights_hidden_output,\n",
        "         biases_output=biases_output)"
      ],
      "metadata": {
        "id": "t5EdC9Ke-gWK"
      },
      "execution_count": 16,
      "outputs": []
    },
    {
      "cell_type": "code",
      "source": [
        "import numpy as np\n",
        "\n",
        "# Load weights and biases\n",
        "loaded_model = np.load('/content/my_model.npz')\n",
        "weights_input_hidden = loaded_model['weights_input_hidden']\n",
        "biases_hidden = loaded_model['biases_hidden']\n",
        "weights_hidden_output = loaded_model['weights_hidden_output']\n",
        "biases_output = loaded_model['biases_output']"
      ],
      "metadata": {
        "id": "iIhAODfLAuBb"
      },
      "execution_count": 56,
      "outputs": []
    },
    {
      "cell_type": "markdown",
      "source": [
        "# PREDICTION\n"
      ],
      "metadata": {
        "id": "qq6ItHRn18y3"
      }
    },
    {
      "cell_type": "markdown",
      "source": [
        "### TAKING INPUT IMAGE"
      ],
      "metadata": {
        "id": "YJHVgaqjN7iv"
      }
    },
    {
      "cell_type": "code",
      "source": [
        "import cv2\n",
        "import numpy as np\n",
        "import matplotlib.pyplot as plt\n",
        "\n",
        "# Load the image in grayscale\n",
        "image = cv2.imread('/content/1.PNG', cv2.IMREAD_GRAYSCALE)\n",
        "\n",
        "# Apply adaptive thresholding to separate the digit from the background\n",
        "_, thresh_image = cv2.threshold(image, 0, 255, cv2.THRESH_BINARY_INV + cv2.THRESH_OTSU)\n",
        "\n",
        "# Invert the image colors\n",
        "inverted_image = 255 - thresh_image\n",
        "\n",
        "# Resize the inverted image to 28x28\n",
        "resized_image = cv2.resize(inverted_image, (28, 28))\n",
        "\n",
        "# Normalize the resized image\n",
        "normalized_image = resized_image / 255.0\n",
        "\n",
        "# Invert the image colors again (from white to black and black to white)\n",
        "final_image = 1 - normalized_image\n",
        "\n",
        "# Flatten the image\n",
        "flattened_image = final_image.reshape(1, -1)\n",
        "\n",
        "# Display the original and processed images\n",
        "plt.figure(figsize=(8, 4))\n",
        "\n",
        "# Original image\n",
        "plt.subplot(1, 2, 1)\n",
        "plt.imshow(image, cmap='gray')\n",
        "plt.title('Original Image')\n",
        "plt.axis('off')\n",
        "\n",
        "# Processed image\n",
        "plt.subplot(1, 2, 2)\n",
        "plt.imshow(final_image, cmap='gray')\n",
        "plt.title('Processed Image (Inverted)')\n",
        "plt.axis('off')\n",
        "\n",
        "plt.tight_layout()\n",
        "plt.show()\n"
      ],
      "metadata": {
        "colab": {
          "base_uri": "https://localhost:8080/",
          "height": 407
        },
        "collapsed": true,
        "id": "qgNnQy7LA-lx",
        "outputId": "8fb73e42-cbba-4845-c15e-377af163db84"
      },
      "execution_count": 57,
      "outputs": [
        {
          "output_type": "display_data",
          "data": {
            "text/plain": [
              "<Figure size 800x400 with 2 Axes>"
            ],
            "image/png": "[encoded data removed]"
          },
          "metadata": {}
        }
      ]
    },
    {
      "cell_type": "markdown",
      "source": [
        "### PREDICTIONG RESULT"
      ],
      "metadata": {
        "id": "EMkpqGeEODyQ"
      }
    },
    {
      "cell_type": "code",
      "source": [
        "input_layer = flattened_image\n",
        "hidden_layer_input = np.dot(input_layer, weights_input_hidden) + biases_hidden\n",
        "hidden_layer_output = 1 / (1 + np.exp(-hidden_layer_input))  # Sigmoid activation\n",
        "output_layer_input = np.dot(hidden_layer_output, weights_hidden_output) + biases_output\n",
        "output_layer_output = softmax(output_layer_input)\n",
        "prediction = np.argmax(output_layer_output)\n",
        "\n",
        "print(prediction)"
      ],
      "metadata": {
        "id": "uxc57SCGuSSx",
        "colab": {
          "base_uri": "https://localhost:8080/"
        },
        "outputId": "cf8002d7-6834-40dd-d3bd-1fe5630df525"
      },
      "execution_count": 58,
      "outputs": [
        {
          "output_type": "stream",
          "name": "stdout",
          "text": [
            "1\n"
          ]
        }
      ]
    }
  ]
}